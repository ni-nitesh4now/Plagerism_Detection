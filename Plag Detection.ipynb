{
 "cells": [
  {
   "cell_type": "code",
   "execution_count": 1,
   "id": "8c3ea69d",
   "metadata": {},
   "outputs": [
    {
     "name": "stdout",
     "output_type": "stream",
     "text": [
      "Label: Not Plagiarized, Similarity: 0.015518659364925651\n"
     ]
    }
   ],
   "source": [
    "import requests\n",
    "import io\n",
    "from bs4 import BeautifulSoup\n",
    "from sklearn.feature_extraction.text import TfidfVectorizer\n",
    "from sklearn.metrics.pairwise import cosine_similarity\n",
    "import PyPDF2\n",
    "\n",
    "# Function to preprocess text\n",
    "def preprocess(text):\n",
    "    # Replace newlines and tabs with spaces\n",
    "    text = text.replace('\\n', ' ').replace('\\t', ' ')\n",
    "    # Remove extra whitespaces\n",
    "    text = ' '.join(text.split())\n",
    "    return text\n",
    "\n",
    "# Function to retrieve text from a PDF file\n",
    "def extract_pdf_text(filename):\n",
    "    with open(filename, 'rb') as file:\n",
    "        pdf_reader = PyPDF2.PdfReader(file)\n",
    "        text = \"\"\n",
    "        for page_num in range(len(pdf_reader.pages)):\n",
    "            page = pdf_reader.pages[page_num]\n",
    "            text += page.extract_text()\n",
    "    return text\n",
    "\n",
    "# Function to retrieve text from a web page\n",
    "def extract_web_text(url):\n",
    "    response = requests.get(url)\n",
    "    html_content = response.content\n",
    "    soup = BeautifulSoup(html_content, 'html.parser')\n",
    "    text = soup.get_text()\n",
    "    text = preprocess(text)\n",
    "    return text\n",
    "\n",
    "# Function to detect plagiarism between two texts\n",
    "def detect_plagiarism(text1, text2):\n",
    "    vectorizer = TfidfVectorizer()\n",
    "    vectors = vectorizer.fit_transform([text1, text2])\n",
    "    similarity = cosine_similarity(vectors)[0,1]\n",
    "    if similarity > 0.8:\n",
    "        return \"Plagiarized\", similarity\n",
    "    else:\n",
    "        return \"Not Plagiarized\", similarity\n",
    "\n",
    "# Example usage\n",
    "pdf_file = 'example.pdf'\n",
    "pdf_text = extract_pdf_text(pdf_file)\n",
    "\n",
    "web_url = 'https://www.gfg.org'\n",
    "web_text = extract_web_text(web_url)\n",
    "\n",
    "# Check for plagiarism\n",
    "label, similarity = detect_plagiarism(pdf_text, web_text)\n",
    "print(f\"Label: {label}, Similarity: {similarity}\")\n"
   ]
  },
  {
   "cell_type": "code",
   "execution_count": null,
   "id": "5333d8a1",
   "metadata": {},
   "outputs": [],
   "source": []
  }
 ],
 "metadata": {
  "kernelspec": {
   "display_name": "Python 3 (ipykernel)",
   "language": "python",
   "name": "python3"
  },
  "language_info": {
   "codemirror_mode": {
    "name": "ipython",
    "version": 3
   },
   "file_extension": ".py",
   "mimetype": "text/x-python",
   "name": "python",
   "nbconvert_exporter": "python",
   "pygments_lexer": "ipython3",
   "version": "3.10.9"
  }
 },
 "nbformat": 4,
 "nbformat_minor": 5
}
